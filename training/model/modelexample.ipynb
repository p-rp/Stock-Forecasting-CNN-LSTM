{
 "cells": [
  {
   "cell_type": "markdown",
   "metadata": {},
   "source": [
    "## A small notebook to showcase how to use train the model on a dummy example\n",
    "\n",
    "## CLEAR OUTPUT BEFORE COMMITING/PUSHING"
   ]
  },
  {
   "cell_type": "code",
   "execution_count": 1,
   "metadata": {},
   "outputs": [],
   "source": [
    "import torch\n",
    "import numpy as np\n",
    "from net import CNN_LSTM\n",
    "import matplotlib.pyplot as plt"
   ]
  },
  {
   "cell_type": "code",
   "execution_count": 2,
   "metadata": {},
   "outputs": [
    {
     "data": {
      "image/png": "[encoded data removed]",
      "text/plain": [
       "<Figure size 640x480 with 1 Axes>"
      ]
     },
     "metadata": {},
     "output_type": "display_data"
    }
   ],
   "source": [
    "# generate sample data\n",
    "data = np.log(np.linspace(1, 1000, 500)).reshape((1, 1, -1))\n",
    "plt.plot(data[0, 0]);"
   ]
  },
  {
   "cell_type": "markdown",
   "metadata": {},
   "source": [
    "### trying to predict the next day, given (all day - 1) points"
   ]
  },
  {
   "cell_type": "code",
   "execution_count": 3,
   "metadata": {},
   "outputs": [],
   "source": [
    "# initialize the net and convert the data to a tensor\n",
    "net = CNN_LSTM(2, 32, 64, 2, 100, 1, 1)\n",
    "tensor_data = torch.tensor(data, dtype=torch.float32)"
   ]
  },
  {
   "cell_type": "code",
   "execution_count": 4,
   "metadata": {},
   "outputs": [],
   "source": [
    "# initialize loss function and optimizer\n",
    "loss = torch.nn.MSELoss()\n",
    "optimizer = torch.optim.SGD(net.parameters(), lr=0.001, momentum=0.9)"
   ]
  },
  {
   "cell_type": "code",
   "execution_count": 5,
   "metadata": {},
   "outputs": [
    {
     "name": "stderr",
     "output_type": "stream",
     "text": [
      "c:\\Users\\frede\\OneDrive\\Documents\\Concordia\\fall2022\\comp432\\project\\.venv\\lib\\site-packages\\torch\\nn\\modules\\conv.py:309: UserWarning: Using padding='same' with even kernel lengths and odd dilation may require a zero-padded copy of the input be created (Triggered internally at C:\\actions-runner\\_work\\pytorch\\pytorch\\builder\\windows\\pytorch\\aten\\src\\ATen\\native\\Convolution.cpp:896.)\n",
      "  return F.conv1d(input, weight, bias, self.stride,\n"
     ]
    },
    {
     "name": "stdout",
     "output_type": "stream",
     "text": [
      "loss: 48.858909606933594\n",
      "loss: 5.413939952850342\n",
      "loss: 1.5683969259262085\n",
      "real value: 6.907755374908447\n",
      "predicted value: 7.545546531677246\n"
     ]
    }
   ],
   "source": [
    "# training\n",
    "ITERATION_NUMBER = 30\n",
    "for i, epoch in enumerate(range(ITERATION_NUMBER)):\n",
    "    inputs, target = tensor_data[:, :, :499], tensor_data[:, :, -1]\n",
    "    optimizer.zero_grad()\n",
    "\n",
    "    output, h = net(inputs)\n",
    "    l = loss(h[0], target)\n",
    "    l.backward()\n",
    "    optimizer.step()\n",
    "    if i % 10 == 0:\n",
    "        print(f\"loss: {l.item()}\")\n",
    "print(f\"real value: {tensor_data[:,:,499:].item()}\")\n",
    "print(f\"predicted value: {net(tensor_data[:,:,:499])[1].item()}\")"
   ]
  }
 ],
 "metadata": {
  "kernelspec": {
   "display_name": ".venv",
   "language": "python",
   "name": "python3"
  },
  "language_info": {
   "codemirror_mode": {
    "name": "ipython",
    "version": 3
   },
   "file_extension": ".py",
   "mimetype": "text/x-python",
   "name": "python",
   "nbconvert_exporter": "python",
   "pygments_lexer": "ipython3",
   "version": "3.9.5 (tags/v3.9.5:0a7dcbd, May  3 2021, 17:27:52) [MSC v.1928 64 bit (AMD64)]"
  },
  "orig_nbformat": 4,
  "vscode": {
   "interpreter": {
    "hash": "a73582d6055d59e3b2a4e4e02bb60d192f119bd44b8373d3590fa55cb02fe5c1"
   }
  }
 },
 "nbformat": 4,
 "nbformat_minor": 2
}
