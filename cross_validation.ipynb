{
 "cells": [
  {
   "attachments": {},
   "cell_type": "markdown",
   "metadata": {},
   "source": [
    "# Cross-Validation notebook\n",
    "\n",
    "This notebook is used to perform cross-validation and hyperparameter search.\n",
    "\n",
    "The result will be saved in [output/hyperparameters.json](output/hyperparameters.json)"
   ]
  },
  {
   "cell_type": "code",
   "execution_count": 1,
   "metadata": {
    "execution": {
     "iopub.execute_input": "2022-12-22T23:55:18.862042Z",
     "iopub.status.busy": "2022-12-22T23:55:18.861524Z",
     "iopub.status.idle": "2022-12-22T23:55:20.971928Z",
     "shell.execute_reply": "2022-12-22T23:55:20.971020Z"
    }
   },
   "outputs": [],
   "source": [
    "import matplotlib.pyplot as plt\n",
    "import numpy as np\n",
    "import pandas as pd\n",
    "import torch\n",
    "import json\n",
    "\n",
    "from utils import train_test_split, dict_to_str\n",
    "from testing import hyperparam_search\n",
    "from training.model.net import CNN_LSTM\n",
    "from training.plot_utils import *\n",
    "from training.tensor_utils import *\n",
    "from training.training import *\n",
    "\n",
    "#for reproducibility\n",
    "torch.manual_seed(1)\n",
    "np.random.seed(1)\n",
    "import random \n",
    "random.seed(1)"
   ]
  },
  {
   "attachments": {},
   "cell_type": "markdown",
   "metadata": {},
   "source": [
    "## Loading the data"
   ]
  },
  {
   "cell_type": "code",
   "execution_count": 2,
   "metadata": {
    "execution": {
     "iopub.execute_input": "2022-12-22T23:55:20.976412Z",
     "iopub.status.busy": "2022-12-22T23:55:20.975778Z",
     "iopub.status.idle": "2022-12-22T23:55:20.987545Z",
     "shell.execute_reply": "2022-12-22T23:55:20.986798Z"
    }
   },
   "outputs": [],
   "source": [
    "df = pd.read_csv(\"data/AAPL-info.csv\")"
   ]
  },
  {
   "cell_type": "code",
   "execution_count": 3,
   "metadata": {
    "collapsed": false,
    "execution": {
     "iopub.execute_input": "2022-12-22T23:55:20.990940Z",
     "iopub.status.busy": "2022-12-22T23:55:20.990667Z",
     "iopub.status.idle": "2022-12-22T23:55:20.994651Z",
     "shell.execute_reply": "2022-12-22T23:55:20.993838Z"
    }
   },
   "outputs": [],
   "source": [
    "X_train, X_test = train_test_split(df, test_size=0.2)"
   ]
  },
  {
   "attachments": {},
   "cell_type": "markdown",
   "metadata": {},
   "source": [
    "## Hyperparameter search"
   ]
  },
  {
   "cell_type": "code",
   "execution_count": 4,
   "metadata": {
    "collapsed": false,
    "execution": {
     "iopub.execute_input": "2022-12-22T23:55:20.998533Z",
     "iopub.status.busy": "2022-12-22T23:55:20.998248Z",
     "iopub.status.idle": "2022-12-23T00:04:02.609752Z",
     "shell.execute_reply": "2022-12-23T00:04:02.608902Z"
    }
   },
   "outputs": [
    {
     "name": "stdout",
     "output_type": "stream",
     "text": [
      "FOR FORECAST HORIZON 1 AND PREDICTION WINDOW 5\n"
     ]
    },
    {
     "name": "stderr",
     "output_type": "stream",
     "text": [
      "/opt/hostedtoolcache/Python/3.8.15/x64/lib/python3.8/site-packages/torch/nn/modules/conv.py:309: UserWarning: Using padding='same' with even kernel lengths and odd dilation may require a zero-padded copy of the input be created (Triggered internally at ../aten/src/ATen/native/Convolution.cpp:895.)\n",
      "  return F.conv1d(input, weight, bias, self.stride,\n"
     ]
    },
    {
     "name": "stdout",
     "output_type": "stream",
     "text": [
      "CHECK OUT THIS AVERAGE ERROR: 0.27632429567431654\n",
      "FOR FORECAST HORIZON 1 AND PREDICTION WINDOW 10\n",
      "CHECK OUT THIS AVERAGE ERROR: 0.22584048544663168\n",
      "FOR FORECAST HORIZON 1 AND PREDICTION WINDOW 20\n",
      "CHECK OUT THIS AVERAGE ERROR: 0.2665275047612864\n",
      "FOR FORECAST HORIZON 1 AND PREDICTION WINDOW 40\n",
      "CHECK OUT THIS AVERAGE ERROR: 0.2467040827261358\n",
      "FOR FORECAST HORIZON 2 AND PREDICTION WINDOW 5\n",
      "CHECK OUT THIS AVERAGE ERROR: 0.1717762908180836\n",
      "FOR FORECAST HORIZON 2 AND PREDICTION WINDOW 10\n",
      "CHECK OUT THIS AVERAGE ERROR: 0.2135857239181358\n",
      "FOR FORECAST HORIZON 2 AND PREDICTION WINDOW 20\n",
      "CHECK OUT THIS AVERAGE ERROR: 0.22042391081280507\n",
      "FOR FORECAST HORIZON 2 AND PREDICTION WINDOW 40\n",
      "CHECK OUT THIS AVERAGE ERROR: 0.1949331780460431\n",
      "FOR FORECAST HORIZON 5 AND PREDICTION WINDOW 5\n",
      "CHECK OUT THIS AVERAGE ERROR: 0.223425062845452\n",
      "FOR FORECAST HORIZON 5 AND PREDICTION WINDOW 10\n",
      "CHECK OUT THIS AVERAGE ERROR: 0.23562497976475988\n",
      "FOR FORECAST HORIZON 5 AND PREDICTION WINDOW 20\n",
      "CHECK OUT THIS AVERAGE ERROR: 0.21501541424917522\n",
      "FOR FORECAST HORIZON 5 AND PREDICTION WINDOW 40\n",
      "CHECK OUT THIS AVERAGE ERROR: 0.2266890237782281\n",
      "FOR FORECAST HORIZON 10 AND PREDICTION WINDOW 5\n",
      "CHECK OUT THIS AVERAGE ERROR: 0.18914533418623738\n",
      "FOR FORECAST HORIZON 10 AND PREDICTION WINDOW 10\n",
      "CHECK OUT THIS AVERAGE ERROR: 0.16479807400158375\n",
      "FOR FORECAST HORIZON 10 AND PREDICTION WINDOW 20\n",
      "CHECK OUT THIS AVERAGE ERROR: 0.1555885862131665\n",
      "FOR FORECAST HORIZON 10 AND PREDICTION WINDOW 40\n",
      "CHECK OUT THIS AVERAGE ERROR: 0.14729875555826402\n",
      "FOR FORECAST HORIZON 15 AND PREDICTION WINDOW 5\n",
      "CHECK OUT THIS AVERAGE ERROR: 0.32291364951344004\n",
      "FOR FORECAST HORIZON 15 AND PREDICTION WINDOW 10\n",
      "CHECK OUT THIS AVERAGE ERROR: 0.20039584373681044\n",
      "FOR FORECAST HORIZON 15 AND PREDICTION WINDOW 20\n",
      "CHECK OUT THIS AVERAGE ERROR: 0.189759777677105\n",
      "FOR FORECAST HORIZON 15 AND PREDICTION WINDOW 40\n",
      "CHECK OUT THIS AVERAGE ERROR: 0.21662150325658983\n"
     ]
    }
   ],
   "source": [
    "hyperparams = hyperparam_search(X_train, 5)"
   ]
  },
  {
   "attachments": {},
   "cell_type": "markdown",
   "metadata": {},
   "source": [
    "## Results"
   ]
  },
  {
   "cell_type": "code",
   "execution_count": 5,
   "metadata": {
    "collapsed": false,
    "execution": {
     "iopub.execute_input": "2022-12-23T00:04:02.614430Z",
     "iopub.status.busy": "2022-12-23T00:04:02.613895Z",
     "iopub.status.idle": "2022-12-23T00:04:02.621934Z",
     "shell.execute_reply": "2022-12-23T00:04:02.621042Z"
    }
   },
   "outputs": [
    {
     "name": "stdout",
     "output_type": "stream",
     "text": [
      "forecast horizon\tprediction window\taverage error\n",
      "1\t\t\t5\t\t\t0.27632429567431654\n",
      "forecast horizon\tprediction window\taverage error\n",
      "1\t\t\t10\t\t\t0.22584048544663168\n",
      "forecast horizon\tprediction window\taverage error\n",
      "1\t\t\t20\t\t\t0.2665275047612864\n",
      "forecast horizon\tprediction window\taverage error\n",
      "1\t\t\t40\t\t\t0.2467040827261358\n",
      "forecast horizon\tprediction window\taverage error\n",
      "2\t\t\t5\t\t\t0.1717762908180836\n",
      "forecast horizon\tprediction window\taverage error\n",
      "2\t\t\t10\t\t\t0.2135857239181358\n",
      "forecast horizon\tprediction window\taverage error\n",
      "2\t\t\t20\t\t\t0.22042391081280507\n",
      "forecast horizon\tprediction window\taverage error\n",
      "2\t\t\t40\t\t\t0.1949331780460431\n",
      "forecast horizon\tprediction window\taverage error\n",
      "5\t\t\t5\t\t\t0.223425062845452\n",
      "forecast horizon\tprediction window\taverage error\n",
      "5\t\t\t10\t\t\t0.23562497976475988\n",
      "forecast horizon\tprediction window\taverage error\n",
      "5\t\t\t20\t\t\t0.21501541424917522\n",
      "forecast horizon\tprediction window\taverage error\n",
      "5\t\t\t40\t\t\t0.2266890237782281\n",
      "forecast horizon\tprediction window\taverage error\n",
      "10\t\t\t5\t\t\t0.18914533418623738\n",
      "forecast horizon\tprediction window\taverage error\n",
      "10\t\t\t10\t\t\t0.16479807400158375\n",
      "forecast horizon\tprediction window\taverage error\n",
      "10\t\t\t20\t\t\t0.1555885862131665\n",
      "forecast horizon\tprediction window\taverage error\n",
      "10\t\t\t40\t\t\t0.14729875555826402\n",
      "forecast horizon\tprediction window\taverage error\n",
      "15\t\t\t5\t\t\t0.32291364951344004\n",
      "forecast horizon\tprediction window\taverage error\n",
      "15\t\t\t10\t\t\t0.20039584373681044\n",
      "forecast horizon\tprediction window\taverage error\n",
      "15\t\t\t20\t\t\t0.189759777677105\n",
      "forecast horizon\tprediction window\taverage error\n",
      "15\t\t\t40\t\t\t0.21662150325658983\n"
     ]
    }
   ],
   "source": [
    "for hp in hyperparams:\n",
    "    print(\"forecast horizon\\tprediction window\\taverage error\")\n",
    "    print(f\"{hp['forecast_horizon']}\\t\\t\\t{hp['prediction_window']}\\t\\t\\t{hp['error']}\")"
   ]
  },
  {
   "cell_type": "code",
   "execution_count": 6,
   "metadata": {
    "collapsed": false,
    "execution": {
     "iopub.execute_input": "2022-12-23T00:04:02.625606Z",
     "iopub.status.busy": "2022-12-23T00:04:02.625252Z",
     "iopub.status.idle": "2022-12-23T00:04:02.631348Z",
     "shell.execute_reply": "2022-12-23T00:04:02.630537Z"
    }
   },
   "outputs": [
    {
     "name": "stdout",
     "output_type": "stream",
     "text": [
      "+------------------------------------------------------------+\n",
      "|                   Best set of parameters                   |\n",
      "+------------------+-------------------+---------------------+\n",
      "| Forecast Horizon | Prediction Window |        Error        |\n",
      "+------------------+-------------------+---------------------+\n",
      "|        10        |         40        | 0.14729875555826402 |\n",
      "+------------------+-------------------+---------------------+\n"
     ]
    }
   ],
   "source": [
    "best_params = hyperparams[np.argmin([hp[\"error\"] for hp in hyperparams])]\n",
    "print(dict_to_str(\"Best set of parameters\", best_params))\n",
    "with open(\"output/hyperparameters.json\", \"w\") as f:\n",
    "    json.dump(best_params, f, indent=4)"
   ]
  }
 ],
 "metadata": {
  "kernelspec": {
   "display_name": "Python 3",
   "language": "python",
   "name": "python3"
  },
  "language_info": {
   "codemirror_mode": {
    "name": "ipython",
    "version": 3
   },
   "file_extension": ".py",
   "mimetype": "text/x-python",
   "name": "python",
   "nbconvert_exporter": "python",
   "pygments_lexer": "ipython3",
   "version": "3.8.15"
  },
  "vscode": {
   "interpreter": {
    "hash": "3067ead486e059ec00ffe7555bdb889e6e264a24dc711bf108106cc7baee8d5d"
   }
  }
 },
 "nbformat": 4,
 "nbformat_minor": 2
}
